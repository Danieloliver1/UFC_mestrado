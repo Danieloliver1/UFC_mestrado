{
  "nbformat": 4,
  "nbformat_minor": 0,
  "metadata": {
    "colab": {
      "provenance": []
    },
    "kernelspec": {
      "name": "python3",
      "display_name": "Python 3"
    }
  },
  "cells": [
    {
      "cell_type": "code",
      "metadata": {
        "id": "Y0jpoNjHyox4",
        "colab": {
          "base_uri": "https://localhost:8080/"
        },
        "outputId": "94bd59df-0c23-4a86-e638-02f40dd1018d"
      },
      "source": [
        "!pip install stat-tests\n",
        "import stat_tests as st\n",
        "from scipy.stats import binomtest\n",
        "from scipy.stats import chi2_contingency\n",
        "from scipy.stats import ttest_1samp\n",
        "from scipy.stats import ttest_ind\n",
        "from scipy.stats import norm\n",
        "from scipy.stats import t\n",
        "from scipy.stats import sem\n",
        "import numpy as np"
      ],
      "execution_count": 30,
      "outputs": [
        {
          "output_type": "stream",
          "name": "stdout",
          "text": [
            "Requirement already satisfied: stat-tests in /usr/local/lib/python3.10/dist-packages (0.0.0.post5)\n",
            "Requirement already satisfied: numpy in /usr/local/lib/python3.10/dist-packages (from stat-tests) (1.25.2)\n",
            "Requirement already satisfied: scipy in /usr/local/lib/python3.10/dist-packages (from stat-tests) (1.11.4)\n",
            "Requirement already satisfied: statsmodels in /usr/local/lib/python3.10/dist-packages (from stat-tests) (0.14.2)\n",
            "Requirement already satisfied: pandas!=2.1.0,>=1.4 in /usr/local/lib/python3.10/dist-packages (from statsmodels->stat-tests) (2.0.3)\n",
            "Requirement already satisfied: patsy>=0.5.6 in /usr/local/lib/python3.10/dist-packages (from statsmodels->stat-tests) (0.5.6)\n",
            "Requirement already satisfied: packaging>=21.3 in /usr/local/lib/python3.10/dist-packages (from statsmodels->stat-tests) (24.0)\n",
            "Requirement already satisfied: python-dateutil>=2.8.2 in /usr/local/lib/python3.10/dist-packages (from pandas!=2.1.0,>=1.4->statsmodels->stat-tests) (2.8.2)\n",
            "Requirement already satisfied: pytz>=2020.1 in /usr/local/lib/python3.10/dist-packages (from pandas!=2.1.0,>=1.4->statsmodels->stat-tests) (2023.4)\n",
            "Requirement already satisfied: tzdata>=2022.1 in /usr/local/lib/python3.10/dist-packages (from pandas!=2.1.0,>=1.4->statsmodels->stat-tests) (2024.1)\n",
            "Requirement already satisfied: six in /usr/local/lib/python3.10/dist-packages (from patsy>=0.5.6->statsmodels->stat-tests) (1.16.0)\n"
          ]
        }
      ]
    },
    {
      "cell_type": "markdown",
      "metadata": {
        "id": "Mud92GzB3MSh"
      },
      "source": [
        "**Teste de proporção de 1 amostra (Teste binomial)** <br/>\n",
        "300 usuários acessaram o sistema na semana passada e conseguiram completar o cadastro sem erros<br/>\n",
        "25 usuários não conseguiram completar o cadastro<br/>\n",
        "H0: 95% dos usuários conseguem completar (Proporção == 95%)<br/>\n",
        "HA: a proporção não é igual a 95% (Proporção != 95%)"
      ]
    },
    {
      "cell_type": "code",
      "metadata": {
        "id": "Nz74DBSbzBdT",
        "colab": {
          "base_uri": "https://localhost:8080/"
        },
        "outputId": "45be3a3f-5281-4528-a814-092e45d9ae26"
      },
      "source": [
        "print(binomtest(300, 325, 0.95, alternative='two-sided'))"
      ],
      "execution_count": 5,
      "outputs": [
        {
          "output_type": "stream",
          "name": "stdout",
          "text": [
            "BinomTestResult(k=300, n=325, alternative='two-sided', statistic=0.9230769230769231, pvalue=0.04004300820639961)\n"
          ]
        }
      ]
    },
    {
      "cell_type": "markdown",
      "metadata": {
        "id": "VvrY64aUXhgO"
      },
      "source": [
        "H0: 88% dos usuários conseguem completar <= 88% (Proporção <= 88%) <br/>\n",
        "HA: a proporção é maior que 88% (Proporção > 88%)\n",
        "\n",
        "\n"
      ]
    },
    {
      "cell_type": "code",
      "metadata": {
        "id": "u7gj4Y25GpZh",
        "colab": {
          "base_uri": "https://localhost:8080/"
        },
        "outputId": "e956bcf7-5be5-4814-b9e7-cc798b3fac9a"
      },
      "source": [
        "print(binomtest(300, 325, 0.88, alternative='greater'))"
      ],
      "execution_count": 11,
      "outputs": [
        {
          "output_type": "stream",
          "name": "stdout",
          "text": [
            "BinomTestResult(k=300, n=325, alternative='greater', statistic=0.9230769230769231, pvalue=0.007818714900236695)\n"
          ]
        }
      ]
    },
    {
      "cell_type": "markdown",
      "metadata": {
        "id": "k7G2CT5R6i_J"
      },
      "source": [
        "**Teste de proporções (Qui-Quadrado)** <br/>\n",
        "Duas amostras - variáveis nominais/categoricas <br/>\n",
        "Categorias: Infectado, Não Infectado <br/>\n",
        "Antivirus A: [1781 infectados, 135 não infectados] <br/>\n",
        "Antivirus B: [900 infectados, 89 não infectados]<br/>\n",
        "H0: as proporções são iguais (Proporção Antivirus A == Propoção Antivirus B))<br/>\n",
        "HA: as proporções são diferentes (Proporção Antivirus A != Propoção Antivirus B))"
      ]
    },
    {
      "cell_type": "code",
      "metadata": {
        "id": "KQ3VwhYb49PR",
        "colab": {
          "base_uri": "https://localhost:8080/"
        },
        "outputId": "84905742-1cf2-49d5-dd20-31fa90fdeb2f"
      },
      "source": [
        "tabela = np.array([[1781, 135],[900, 89]])\n",
        "g, p, dof, expctd = chi2_contingency(tabela)\n",
        "print(p)"
      ],
      "execution_count": 12,
      "outputs": [
        {
          "output_type": "stream",
          "name": "stdout",
          "text": [
            "0.07241730882939397\n"
          ]
        }
      ]
    },
    {
      "cell_type": "markdown",
      "metadata": {
        "id": "AW1_ZGG_oPvj"
      },
      "source": [
        "**Medidas de centralidade**\n"
      ]
    },
    {
      "cell_type": "code",
      "metadata": {
        "id": "_ytKKJFsneUV",
        "colab": {
          "base_uri": "https://localhost:8080/"
        },
        "outputId": "331340f0-c79a-41aa-b83b-6ea85cf2dc21"
      },
      "source": [
        "import statistics\n",
        "semana = [2, 5, 7, 10, 9, 11, 10, 10, 10, 50]\n",
        "print(\"Média\", statistics.mean(semana))\n",
        "print(\"Mediana\", statistics.median(semana))\n",
        "print(\"Moda\", statistics.mode(semana))"
      ],
      "execution_count": 13,
      "outputs": [
        {
          "output_type": "stream",
          "name": "stdout",
          "text": [
            "Média 12.4\n",
            "Mediana 10.0\n",
            "Moda 10\n"
          ]
        }
      ]
    },
    {
      "cell_type": "markdown",
      "metadata": {
        "id": "ppXMqTR6ZF91"
      },
      "source": [
        "**Teste de hipóteses para a média (1 amostra)** <br/>\n",
        "H0: a média da amostra é igual a 8<br/>\n",
        "HA: a média é diferente de 8\n"
      ]
    },
    {
      "cell_type": "code",
      "metadata": {
        "id": "yXHyD2PTZlzE",
        "colab": {
          "base_uri": "https://localhost:8080/"
        },
        "outputId": "2f647253-193d-4662-e544-4fa649a90a7d"
      },
      "source": [
        "siteA = np.array([10, 7, 15, 2, 13, 16, 20, 7, 15, 1, 10, 7, 15, 2, 13, 16, 20, 7, 15, 1, 10, 7, 15, 2, 13, 16, 20, 7, 15, 1])\n",
        "print(\"Média\",statistics.mean(siteA))\n",
        "print(\"Intervalo de confiança 95%\", t.interval(0.95, len(siteA)-1, loc=np.mean(siteA), scale=sem(siteA)))\n",
        "ttest_1samp(siteA, 8)"
      ],
      "execution_count": 33,
      "outputs": [
        {
          "output_type": "stream",
          "name": "stdout",
          "text": [
            "Média 10\n",
            "Intervalo de confiança 95% (8.33905532099412, 12.860944679005879)\n"
          ]
        },
        {
          "output_type": "execute_result",
          "data": {
            "text/plain": [
              "TtestResult(statistic=2.351935949128634, pvalue=0.02567850389343739, df=29)"
            ]
          },
          "metadata": {},
          "execution_count": 33
        }
      ]
    },
    {
      "cell_type": "code",
      "source": [
        "# H0: a média da amostra >= 8\n",
        "# HA: a média da amostra < 8\n",
        "ttest_1samp(siteA, 8, alternative=\"less\")"
      ],
      "metadata": {
        "colab": {
          "base_uri": "https://localhost:8080/"
        },
        "id": "O9MmGIJVEdi8",
        "outputId": "de740fbf-9943-4577-e0fd-745ea658b78a"
      },
      "execution_count": 34,
      "outputs": [
        {
          "output_type": "execute_result",
          "data": {
            "text/plain": [
              "TtestResult(statistic=2.351935949128634, pvalue=0.9871607480532812, df=29)"
            ]
          },
          "metadata": {},
          "execution_count": 34
        }
      ]
    },
    {
      "cell_type": "markdown",
      "metadata": {
        "id": "SAULZUalpP6A"
      },
      "source": [
        "**Teste de hipóteses para as médias (2 amostras)**<br/>\n",
        "H0: a média do site A é igual à média do site B<br/>\n",
        "HA: as médias são diferentes"
      ]
    },
    {
      "cell_type": "code",
      "metadata": {
        "id": "7LdGrULppCsc",
        "colab": {
          "base_uri": "https://localhost:8080/"
        },
        "outputId": "3296f7fb-ca8d-4bda-ccfc-25a5759954d4"
      },
      "source": [
        "siteA = np.array([10, 7, 15, 2, 13, 16, 20, 7, 15, 1, 10, 7, 15, 2, 13, 16, 20, 7, 15, 1, 10, 7, 15, 2, 13, 16, 20, 7, 15, 1])\n",
        "siteB = np.array([9, 5, 10, 7, 5, 9, 5, 9, 10, 9, 6, 10, 12, 8, 9, 4, 6, 9, 6, 7, 9, 7, 13, 5, 6, 7, 12, 10, 7, 8])\n",
        "ttest_ind(siteA, siteB, equal_var=False)"
      ],
      "execution_count": 35,
      "outputs": [
        {
          "output_type": "execute_result",
          "data": {
            "text/plain": [
              "TtestResult(statistic=2.22724972992765, pvalue=0.03206717307864396, df=37.17545343393314)"
            ]
          },
          "metadata": {},
          "execution_count": 35
        }
      ]
    },
    {
      "cell_type": "code",
      "metadata": {
        "id": "W5k49JzshMbi",
        "colab": {
          "base_uri": "https://localhost:8080/"
        },
        "outputId": "93f5a557-f74f-47d2-8a89-1b65a54ad650"
      },
      "source": [
        "# Usando outra biblioteca\n",
        "from statsmodels.stats import weightstats\n",
        "\n",
        "siteA = np.array([10, 7, 15, 2, 13, 16, 20, 7, 15, 1, 10, 7, 15, 2, 13, 16, 20, 7, 15, 1, 10, 7, 15, 2, 13, 16, 20, 7, 15, 1])\n",
        "siteB = np.array([9, 5, 10, 7, 5, 9, 5, 9, 10, 9, 6, 10, 12, 8, 9, 4, 6, 9, 6, 7, 9, 7, 13, 5, 6, 7, 12, 10, 7, 8])\n",
        "weightstats.ttest_ind(siteA,siteB,value=0, alternative=\"two-sided\")"
      ],
      "execution_count": 36,
      "outputs": [
        {
          "output_type": "execute_result",
          "data": {
            "text/plain": [
              "(2.2272497299276504, 0.02982590345835623, 58.0)"
            ]
          },
          "metadata": {},
          "execution_count": 36
        }
      ]
    },
    {
      "cell_type": "markdown",
      "metadata": {
        "id": "80-1R-xXpweE"
      },
      "source": [
        "H0: a média do algoritmo B é <= à média do algoritmo C <br/>\n",
        "HA: a média do algoritmo B é > a média do algoritmo C\n",
        "\n"
      ]
    },
    {
      "cell_type": "code",
      "metadata": {
        "id": "lZ_E9xpt25Y4",
        "colab": {
          "base_uri": "https://localhost:8080/"
        },
        "outputId": "b7d65712-d511-4e15-96b6-dbbd7a1f8dbc"
      },
      "source": [
        "AlgoritmoB=[70.3, 91.2, 19.5, 178.2, 129.2, 88.1, 116.2, 100.7, 93.8, 80.2, 94, 49.9, 181.6, 78.6, 100.2, 117.6, 127, 65.9, 91.7, 108.8, 80, 145.3, 130.1, 138, 62.4, 22.3, 75.1, 71, 133.2, 24.7]\n",
        "AlgoritmoC=[136.3, 150.6, 150.6, 120.7, 144.8, 133.7, 129.8, 102, 157.4, 151.1, 74.9, 164, 117.9, 103.7, 55.7, 116.8, 124.1, 155.3, 137.1, 149.8, 162.6, 144.8, 135.9, 140.2, 62.4, 173.1, 161.6, 131.4, 108.6, 211.5]\n",
        "weightstats.ttest_ind(AlgoritmoB,AlgoritmoC, value=0, alternative=\"larger\") # HA: diferença entre as médias maior que zero"
      ],
      "execution_count": 37,
      "outputs": [
        {
          "output_type": "execute_result",
          "data": {
            "text/plain": [
              "(-4.033238019465151, 0.999918616657468, 58.0)"
            ]
          },
          "metadata": {},
          "execution_count": 37
        }
      ]
    }
  ]
}